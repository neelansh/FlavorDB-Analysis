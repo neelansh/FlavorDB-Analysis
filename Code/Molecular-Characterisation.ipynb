{
 "cells": [
  {
   "cell_type": "code",
   "execution_count": 30,
   "metadata": {
    "collapsed": true
   },
   "outputs": [],
   "source": [
    "import os\n",
    "from collections import Counter\n",
    "import numpy as np\n",
    "import pandas as pd\n",
    "import seaborn as sns\n",
    "import matplotlib.pyplot as plt\n",
    "\n",
    "%matplotlib inline\n",
    "os.chdir('/Users/rudraksh/Google Drive/FlavorDB-Analysis')"
   ]
  },
  {
   "cell_type": "markdown",
   "metadata": {},
   "source": [
    "### Read Data Files."
   ]
  },
  {
   "cell_type": "code",
   "execution_count": 49,
   "metadata": {
    "collapsed": false
   },
   "outputs": [],
   "source": [
    "# ADMET properties.\n",
    "admet = pd.read_csv('Data/FDB_admet.tsv', sep='\\t')\n",
    "\n",
    "# 2d-3d properties.\n",
    "twod_threed = pd.read_csv('Data/FDB_twod_threed.tsv', sep='\\t')\n",
    "\n",
    "# Pubchem properties\n",
    "pubchem_prop = pd.read_csv('Data/FDB_pubchem_prop.tsv', sep='\\t', index_col='Unnamed: 0')\n",
    "pubchem_prop.fillna('', inplace=True)\n",
    "\n",
    "# Drop certain columns\n",
    "twod_threed.drop(['Molecular_Formula', 'Molecular_Composition'], inplace=True, axis=1)\n",
    "pubchem_prop.drop(['IUPACName', 'common_name', 'CanonicalSMILES', 'IsomericSMILES',\n",
    "                   'cas_id', 'fema_number', 'InChI'], \n",
    "                  inplace=True, axis=1)\n",
    "admet.drop(['ADMET_BBB', 'ADMET_EXT_Hepatotoxic_Applicability', 'ADMET_EXT_PPB_Applicability'],\n",
    "           inplace=True, axis=1)\n",
    "\n",
    "# Set pubchem_id as index for each.\n",
    "twod_threed.set_index('pubchem_id', inplace=True)\n",
    "pubchem_prop.set_index('pubchem_id', inplace=True)\n",
    "admet.set_index('pubchem_id', inplace=True)"
   ]
  },
  {
   "cell_type": "markdown",
   "metadata": {},
   "source": [
    "### 1. Basic Statistics"
   ]
  },
  {
   "cell_type": "markdown",
   "metadata": {},
   "source": [
    "#### a. Count of different flavors and overlap"
   ]
  },
  {
   "cell_type": "code",
   "execution_count": 80,
   "metadata": {
    "collapsed": false
   },
   "outputs": [
    {
     "name": "stdout",
     "output_type": "stream",
     "text": [
      "Total FoodDB Odor molecules: 2681\n",
      "Total PubChem odor molecules: 544\n",
      "Total PubChem taste molecules: 415\n",
      "Total Sweet molecules: 8193 \n",
      "Total Sweet-like molecules: 13787\n",
      "Total Bitter molecules: 664\n",
      "Total FEMA molecules: 1808\n"
     ]
    }
   ],
   "source": [
    "fooddb_odor = list(pubchem_prop[pubchem_prop['fooddb_flavor_profile'] != ''].index)\n",
    "print(\"Total FoodDB Odor molecules: %d\" %len(fooddb_odor))\n",
    "\n",
    "pubchem_odor = list(pubchem_prop[pubchem_prop['odor'] != ''].index)\n",
    "print(\"Total PubChem odor molecules: %d\" %len(pubchem_odor))\n",
    "\n",
    "pubchem_taste = list(pubchem_prop[pubchem_prop['taste'] != ''].index)\n",
    "print(\"Total PubChem taste molecules: %d\" %len(pubchem_taste))\n",
    "\n",
    "sweet_like = list(pubchem_prop[pubchem_prop['SuperSweet'] == 'Sweet-like'].index)\n",
    "sweet = list(pubchem_prop[pubchem_prop['SuperSweet'] == 'Sweet'].index)\n",
    "print(\"Total Sweet molecules: %d \" %len(sweet))\n",
    "print(\"Total Sweet-like molecules: %d\" %len(sweet_like))\n",
    "\n",
    "bitter = list(pubchem_prop[pubchem_prop['Bitter'].tolist()].index)\n",
    "print(\"Total Bitter molecules: %d\" %len(bitter))\n",
    "\n",
    "fema = list(pubchem_prop[pubchem_prop['fema_flavor_profile'] != ''].index)\n",
    "print(\"Total FEMA molecules: %d\" %len(fema))"
   ]
  },
  {
   "cell_type": "code",
   "execution_count": 88,
   "metadata": {
    "collapsed": false
   },
   "outputs": [
    {
     "data": {
      "text/html": [
       "<div>\n",
       "<table border=\"1\" class=\"dataframe\">\n",
       "  <thead>\n",
       "    <tr style=\"text-align: right;\">\n",
       "      <th></th>\n",
       "      <th>FooDB Odor</th>\n",
       "      <th>PubChem Odor</th>\n",
       "      <th>PubChem Taste</th>\n",
       "      <th>Sweet</th>\n",
       "      <th>Sweet-like</th>\n",
       "      <th>Bitter</th>\n",
       "      <th>FEMA</th>\n",
       "    </tr>\n",
       "  </thead>\n",
       "  <tbody>\n",
       "    <tr>\n",
       "      <th>FooDB Odor</th>\n",
       "      <td>2681.0</td>\n",
       "      <td>422.0</td>\n",
       "      <td>284.0</td>\n",
       "      <td>21.0</td>\n",
       "      <td>4.0</td>\n",
       "      <td>190.0</td>\n",
       "      <td>1557.0</td>\n",
       "    </tr>\n",
       "    <tr>\n",
       "      <th>PubChem Odor</th>\n",
       "      <td>422.0</td>\n",
       "      <td>544.0</td>\n",
       "      <td>348.0</td>\n",
       "      <td>30.0</td>\n",
       "      <td>6.0</td>\n",
       "      <td>112.0</td>\n",
       "      <td>227.0</td>\n",
       "    </tr>\n",
       "    <tr>\n",
       "      <th>PubChem Taste</th>\n",
       "      <td>284.0</td>\n",
       "      <td>348.0</td>\n",
       "      <td>415.0</td>\n",
       "      <td>45.0</td>\n",
       "      <td>18.0</td>\n",
       "      <td>124.0</td>\n",
       "      <td>164.0</td>\n",
       "    </tr>\n",
       "    <tr>\n",
       "      <th>Sweet</th>\n",
       "      <td>21.0</td>\n",
       "      <td>30.0</td>\n",
       "      <td>45.0</td>\n",
       "      <td>8193.0</td>\n",
       "      <td>0.0</td>\n",
       "      <td>5.0</td>\n",
       "      <td>13.0</td>\n",
       "    </tr>\n",
       "    <tr>\n",
       "      <th>Sweet-like</th>\n",
       "      <td>4.0</td>\n",
       "      <td>6.0</td>\n",
       "      <td>18.0</td>\n",
       "      <td>0.0</td>\n",
       "      <td>13787.0</td>\n",
       "      <td>1.0</td>\n",
       "      <td>15.0</td>\n",
       "    </tr>\n",
       "    <tr>\n",
       "      <th>Bitter</th>\n",
       "      <td>190.0</td>\n",
       "      <td>112.0</td>\n",
       "      <td>124.0</td>\n",
       "      <td>5.0</td>\n",
       "      <td>1.0</td>\n",
       "      <td>664.0</td>\n",
       "      <td>89.0</td>\n",
       "    </tr>\n",
       "    <tr>\n",
       "      <th>FEMA</th>\n",
       "      <td>1557.0</td>\n",
       "      <td>227.0</td>\n",
       "      <td>164.0</td>\n",
       "      <td>13.0</td>\n",
       "      <td>15.0</td>\n",
       "      <td>89.0</td>\n",
       "      <td>1808.0</td>\n",
       "    </tr>\n",
       "  </tbody>\n",
       "</table>\n",
       "</div>"
      ],
      "text/plain": [
       "               FooDB Odor  PubChem Odor  PubChem Taste   Sweet  Sweet-like  \\\n",
       "FooDB Odor         2681.0         422.0          284.0    21.0         4.0   \n",
       "PubChem Odor        422.0         544.0          348.0    30.0         6.0   \n",
       "PubChem Taste       284.0         348.0          415.0    45.0        18.0   \n",
       "Sweet                21.0          30.0           45.0  8193.0         0.0   \n",
       "Sweet-like            4.0           6.0           18.0     0.0     13787.0   \n",
       "Bitter              190.0         112.0          124.0     5.0         1.0   \n",
       "FEMA               1557.0         227.0          164.0    13.0        15.0   \n",
       "\n",
       "               Bitter    FEMA  \n",
       "FooDB Odor      190.0  1557.0  \n",
       "PubChem Odor    112.0   227.0  \n",
       "PubChem Taste   124.0   164.0  \n",
       "Sweet             5.0    13.0  \n",
       "Sweet-like        1.0    15.0  \n",
       "Bitter          664.0    89.0  \n",
       "FEMA             89.0  1808.0  "
      ]
     },
     "execution_count": 88,
     "metadata": {},
     "output_type": "execute_result"
    }
   ],
   "source": [
    "x = [fooddb_odor, pubchem_odor, pubchem_taste, sweet, sweet_like, bitter, fema]\n",
    "conf = np.zeros((len(x), len(x)))\n",
    "\n",
    "for i,mol_list_1 in enumerate(x):\n",
    "    for j,mol_list_2 in enumerate(x):\n",
    "        mol_list_1 = set(mol_list_1)\n",
    "        mol_list_2 = set(mol_list_2)\n",
    "        \n",
    "        conf[i,j] = len(mol_list_1.intersection(mol_list_2))\n",
    "        \n",
    "c = ['FooDB Odor', 'PubChem Odor', 'PubChem Taste', 'Sweet', 'Sweet-like', 'Bitter', 'FEMA']\n",
    "pd.DataFrame(conf, columns=c, index=c)"
   ]
  },
  {
   "cell_type": "markdown",
   "metadata": {},
   "source": [
    "##### Preprocessing\n",
    "* A new odor column is created by combining \"FoodDB Odor\" and \"PubChem Odor\".\n",
    "* A new taste column is created by combining \"Sweet\" molecules and \"Bitter\" molecules.\n",
    "* Sweet-like molecules are not considered for further analysis since they are found using structural similarity.\n",
    "* PubChem taste is not considered because of high dimensionality and being limited to just a few molecules.\n",
    "* FEMA is discarded because of no clear distinction being made between Odor and Taste, as well no source info being present"
   ]
  }
 ],
 "metadata": {
  "kernelspec": {
   "display_name": "Python 3",
   "language": "python",
   "name": "python3"
  },
  "language_info": {
   "codemirror_mode": {
    "name": "ipython",
    "version": 3
   },
   "file_extension": ".py",
   "mimetype": "text/x-python",
   "name": "python",
   "nbconvert_exporter": "python",
   "pygments_lexer": "ipython3",
   "version": "3.6.0"
  }
 },
 "nbformat": 4,
 "nbformat_minor": 2
}
